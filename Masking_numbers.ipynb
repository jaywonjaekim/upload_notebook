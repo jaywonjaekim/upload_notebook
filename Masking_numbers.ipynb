{
 "cells": [
  {
   "cell_type": "markdown",
   "metadata": {},
   "source": [
    "# 1. Learning Regular Expressions with Masking examples\n",
    "- re.sub(\"찾을패턴\", \"새로바꿀패턴\", \"데이터\")\n",
    "- \\d는 숫자를 가리키며, (\\d{3})이면 숫자 3자리를 가리킨다\n"
   ]
  },
  {
   "cell_type": "code",
   "execution_count": 12,
   "metadata": {},
   "outputs": [
    {
     "data": {
      "text/plain": [
       "'***-****-****'"
      ]
     },
     "execution_count": 12,
     "metadata": {},
     "output_type": "execute_result"
    }
   ],
   "source": [
    "import re\n",
    "import pandas as pd\n",
    "re.sub(\"\\d\", \"*\" ,\"010-1234-5678\") #숫자를 잡아서 *로 바꾼다. "
   ]
  },
  {
   "cell_type": "markdown",
   "metadata": {},
   "source": [
    "- (\\d{1,2})는 숫자 1~2 자리 패턴을 뜻한다 "
   ]
  },
  {
   "cell_type": "code",
   "execution_count": 5,
   "metadata": {},
   "outputs": [
    {
     "data": {
      "text/plain": [
       "'*-**-**'"
      ]
     },
     "execution_count": 5,
     "metadata": {},
     "output_type": "execute_result"
    }
   ],
   "source": [
    "#010 -> *\n",
    "#123 -> * , 4 -> *\n",
    "#567 -> * , 8 -> * \n",
    "re.sub(\"(\\d{1,3})\", \"*\" ,\"010-1234-5678\")"
   ]
  },
  {
   "cell_type": "markdown",
   "metadata": {},
   "source": [
    "- (첫번째그룹)(두번째그룹)(세번째그룹)\n",
    "- 각각을 \\1 , \\2 , \\3으로 쉽게 표현할 수 있다\n",
    "- 다만, 앞에 r을 적어야 인식한다 \n",
    "- r\"\\1\"  처럼 말이다. \n",
    "- (Group1:숫자세개) - (Group2:숫자두개)(Group3:숫자두개)-(Group4:숫자두개)(Group:5숫자두개)"
   ]
  },
  {
   "cell_type": "code",
   "execution_count": 6,
   "metadata": {},
   "outputs": [
    {
     "data": {
      "text/plain": [
       "'010-12**-**78'"
      ]
     },
     "execution_count": 6,
     "metadata": {},
     "output_type": "execute_result"
    }
   ],
   "source": [
    "#(Group1:숫자세개) - (Group2:숫자두개)(Group3:숫자두개)-(Group4:숫자두개)(Group:5숫자두개)\n",
    "\n",
    "#전화번호의 가운데 4자리 중 뒤에 2자리를 마스킹, 뒤에 4자리 중 앞의 2자리를 마스킹\n",
    "#방법 : 가운데 4자리, 뒤의 4자리를 2자리+2자리 / 2자리+2자리의 그룹으로 나눠서 생각해 보는 것이다.\n",
    "#Group를 Gr로 줄여서 표현하자\n",
    "# r\"\\1-\\2**-**\\5\" 이건 무슨뜻인가. Gr1-Gr2**-**Gr5\n",
    "re.sub(\"(\\d{3})-(\\d{2})(\\d{2})-(\\d{2})(\\d{2})\", r\"\\1-\\2**-**\\5\", \"010-1234-5678\")"
   ]
  },
  {
   "cell_type": "code",
   "execution_count": null,
   "metadata": {},
   "outputs": [],
   "source": []
  },
  {
   "cell_type": "markdown",
   "metadata": {},
   "source": [
    "*중간 전화번호가 3자리라면?*"
   ]
  },
  {
   "cell_type": "code",
   "execution_count": 8,
   "metadata": {},
   "outputs": [
    {
     "data": {
      "text/plain": [
       "'010-1**-**78'"
      ]
     },
     "execution_count": 8,
     "metadata": {},
     "output_type": "execute_result"
    }
   ],
   "source": [
    "#중간 부분 패턴을 나누는것을 2자리+2자리 말고, (하나에서 두자리)(두자리)로 나눠버리면 된다. \n",
    "\n",
    "re.sub(\"(\\d{3})-(\\d{1,2})(\\d{2})-(\\d{2})(\\d{2})\", r\"\\1-\\2**-**\\5\", \"010-123-5678\")"
   ]
  },
  {
   "cell_type": "markdown",
   "metadata": {},
   "source": [
    "# Q. 국가 번호가 들어갈 때에도 처리 할 수 있는 함수를 만들어보자 \n",
    "## -를 기준으로 가운데 있는 그룹의 숫자 중 뒤의 2개를 마스킹하고\n",
    "## -를 기준으로 마지막에 있는 그룹의 숫자 중 앞의 2개를 마스킹 해보자\n",
    "\n",
    "\n",
    "| 클래스 | 표현식 | 설명 |\n",
    "|----|-----|----|\n",
    "|\\d | [0-9]|십진수와 일치|\n",
    "|\\D| [^0-9] | 숫자가 아닌 문자와 일치|\n",
    "|\\s |[\\t\\n\\r\\f\\v] | 공백 문자와 일치 |\n",
    "|\\S |[^\\t\\n\\r\\f\\v]| 공백이 아닌 문자와 일치|\n",
    "| \\w| [a-zA-Z0-9_] | 모든 숫자 영문자와 일치|\n",
    "| \\W| [^a-zA-Z0-9_]| 영문자, 숫자가 아닌 것과 일치|"
   ]
  },
  {
   "cell_type": "code",
   "execution_count": 11,
   "metadata": {},
   "outputs": [
    {
     "data": {
      "text/plain": [
       "'+82-10-12**-**78'"
      ]
     },
     "execution_count": 11,
     "metadata": {},
     "output_type": "execute_result"
    }
   ],
   "source": [
    "# 함수를 통해 가운데 들어오는 번호를 마스킹 하도록 처리\n",
    "# 국제번호 등 다양한 형식의 번호가 들어왔을 때 \n",
    "\n",
    "phone = \"+82-10-1234-5678\"\n",
    "\n",
    "def mask_phone_number(phone):\n",
    "    \n",
    "    num = phone.split(\"-\") # Divide into 4 pieces\n",
    "    \n",
    "    num[2] = re.sub(\"(\\d{1,2})(\\d{2})\", r\"\\1**\", num[2]) \n",
    "    num[-1] = re.sub(\"(\\d{2})(\\d{2})\", r\"**\\2\", num[-1])\n",
    "    \n",
    "    return \"-\".join(num)\n",
    "\n",
    "mask_phone_number(phone)"
   ]
  },
  {
   "cell_type": "markdown",
   "metadata": {},
   "source": [
    "# 위의 함수도 잘 만들었지만 공백이 들어왔을 때 처리할 수 없으니 예외 상황을 처리하는 코드를 하나 넣어주자."
   ]
  },
  {
   "cell_type": "code",
   "execution_count": 13,
   "metadata": {},
   "outputs": [
    {
     "data": {
      "text/plain": [
       "'+82-10-12**-**78'"
      ]
     },
     "execution_count": 13,
     "metadata": {},
     "output_type": "execute_result"
    }
   ],
   "source": [
    "#나눠서 공략하자 \n",
    "#일단 '-'를 기준으로 뜯어보자 \n",
    "\n",
    "\n",
    "def mask_phone_number(phone):\n",
    "    \n",
    "    \n",
    "    if pd.isnull(phone):\n",
    "        return phone\n",
    "    \n",
    "    num = phone.split(\"-\") \n",
    "    \n",
    "    num[2] = re.sub(\"(\\d{1,2})(\\d{2})\", r\"\\1**\", num[2]) \n",
    "    num[-1] = re.sub(\"(\\d{2})(\\d{2})\", r\"**\\2\", num[-1])\n",
    "    \n",
    "    return \"-\".join(num)\n",
    "\n",
    "mask_phone_number(phone)"
   ]
  }
 ],
 "metadata": {
  "kernelspec": {
   "display_name": "Python 3",
   "language": "python",
   "name": "python3"
  },
  "language_info": {
   "codemirror_mode": {
    "name": "ipython",
    "version": 3
   },
   "file_extension": ".py",
   "mimetype": "text/x-python",
   "name": "python",
   "nbconvert_exporter": "python",
   "pygments_lexer": "ipython3",
   "version": "3.7.9"
  }
 },
 "nbformat": 4,
 "nbformat_minor": 4
}
